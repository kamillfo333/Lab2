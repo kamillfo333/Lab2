{
  "nbformat": 4,
  "nbformat_minor": 0,
  "metadata": {
    "colab": {
      "provenance": [],
      "include_colab_link": true
    },
    "kernelspec": {
      "name": "python3",
      "display_name": "Python 3"
    },
    "language_info": {
      "name": "python"
    }
  },
  "cells": [
    {
      "cell_type": "markdown",
      "metadata": {
        "id": "view-in-github",
        "colab_type": "text"
      },
      "source": [
        "<a href=\"https://colab.research.google.com/github/kamillfo333/Lab2/blob/main/firstLec.ipynb\" target=\"_parent\"><img src=\"https://colab.research.google.com/assets/colab-badge.svg\" alt=\"Open In Colab\"/></a>"
      ]
    },
    {
      "cell_type": "markdown",
      "source": [
        "first task"
      ],
      "metadata": {
        "id": "dYZO-M18STJz"
      }
    },
    {
      "cell_type": "markdown",
      "source": [
        "FOR 5"
      ],
      "metadata": {
        "id": "5D_LHTuxlVCt"
      }
    },
    {
      "cell_type": "code",
      "source": [
        "import random\n",
        "\n",
        "price = round(random.uniform(0, 100),2)\n",
        "print('Цена 1 кг конфет: ', price)\n",
        "print()\n",
        "for i in range(1,11):\n",
        "    x = 0.1*i\n",
        "    print('Стоимость {0:.1f} кг: {1:.2f}'.format(x, x * price))\n",
        "print()"
      ],
      "metadata": {
        "id": "NRRpFBuclS9N",
        "outputId": "0c26ffad-7531-431f-d856-1be3cd0acda4",
        "colab": {
          "base_uri": "https://localhost:8080/"
        }
      },
      "execution_count": 1,
      "outputs": [
        {
          "output_type": "stream",
          "name": "stdout",
          "text": [
            "Цена 1 кг конфет:  43.98\n",
            "\n",
            "Стоимость 0.1 кг: 4.40\n",
            "Стоимость 0.2 кг: 8.80\n",
            "Стоимость 0.3 кг: 13.19\n",
            "Стоимость 0.4 кг: 17.59\n",
            "Стоимость 0.5 кг: 21.99\n",
            "Стоимость 0.6 кг: 26.39\n",
            "Стоимость 0.7 кг: 30.79\n",
            "Стоимость 0.8 кг: 35.18\n",
            "Стоимость 0.9 кг: 39.58\n",
            "Стоимость 1.0 кг: 43.98\n",
            "\n"
          ]
        }
      ]
    },
    {
      "cell_type": "markdown",
      "source": [
        "For 15"
      ],
      "metadata": {
        "id": "ZdTDlsZLlgYN"
      }
    },
    {
      "cell_type": "code",
      "source": [
        "import random\n",
        "\n",
        "N = random.randrange(1,10)\n",
        "print('N = ', N)\n",
        "A = random.randrange(-10,10)\n",
        "print('A = ', A)\n",
        "\n",
        "P = 1\n",
        "for i in range(1,N+1):\n",
        "    P *= A\n",
        "    print(i,\" : \",P)\n",
        "print(\"Product = \",P)"
      ],
      "metadata": {
        "id": "WqIiABiHlh1d",
        "outputId": "a413871b-1f5d-48b5-ac29-a8da9a960c3d",
        "colab": {
          "base_uri": "https://localhost:8080/"
        }
      },
      "execution_count": 2,
      "outputs": [
        {
          "output_type": "stream",
          "name": "stdout",
          "text": [
            "N =  9\n",
            "A =  -10\n",
            "1  :  -10\n",
            "2  :  100\n",
            "3  :  -1000\n",
            "4  :  10000\n",
            "5  :  -100000\n",
            "6  :  1000000\n",
            "7  :  -10000000\n",
            "8  :  100000000\n",
            "9  :  -1000000000\n",
            "Product =  -1000000000\n"
          ]
        }
      ]
    },
    {
      "cell_type": "markdown",
      "source": [
        "For 25"
      ],
      "metadata": {
        "id": "fQFpgMpEmGeT"
      }
    },
    {
      "cell_type": "code",
      "source": [
        "import math\n",
        "X = 0.5\n",
        "N = 10\n",
        "print('X = ', X)\n",
        "print('N = ', N)\n",
        "\n",
        "p = 1\n",
        "S = 0\n",
        "for i in range(1,N+1):\n",
        "    p *= X\n",
        "    S += p/i\n",
        "    print(i,\" : \", p,\" : \", S)\n",
        "    p *= -1\n",
        "\n",
        "print(\"Result:\")\n",
        "print(S)\n",
        "print(\"ln(x+1):\")\n",
        "print(math.log(X+1))"
      ],
      "metadata": {
        "id": "pxyqlYF3mH4r",
        "outputId": "120e4961-fc9a-40d7-f1f0-b8683bc480ee",
        "colab": {
          "base_uri": "https://localhost:8080/"
        }
      },
      "execution_count": 3,
      "outputs": [
        {
          "output_type": "stream",
          "name": "stdout",
          "text": [
            "X =  0.5\n",
            "N =  10\n",
            "1  :  0.5  :  0.5\n",
            "2  :  -0.25  :  0.375\n",
            "3  :  0.125  :  0.4166666666666667\n",
            "4  :  -0.0625  :  0.4010416666666667\n",
            "5  :  0.03125  :  0.40729166666666666\n",
            "6  :  -0.015625  :  0.4046875\n",
            "7  :  0.0078125  :  0.40580357142857143\n",
            "8  :  -0.00390625  :  0.40531529017857143\n",
            "9  :  0.001953125  :  0.4055323040674603\n",
            "10  :  -0.0009765625  :  0.4054346478174603\n",
            "Result:\n",
            "0.4054346478174603\n",
            "ln(x+1):\n",
            "0.4054651081081644\n"
          ]
        }
      ]
    },
    {
      "cell_type": "markdown",
      "source": [
        "For 35"
      ],
      "metadata": {
        "id": "fcchk_IlmN66"
      }
    },
    {
      "cell_type": "code",
      "source": [
        "for N in range(2,63,10):\n",
        "    print(\"N = \",N)\n",
        "    A1 = 1\n",
        "    A2 = 2\n",
        "    A3 = 3\n",
        "    print(1,\" : \",A1)\n",
        "    print(2,\" : \",A2)\n",
        "    print(3,\" : \",A3)\n",
        "    for k in range(4,N+1):\n",
        "        A4 = A3 + A2 - 2*A1\n",
        "        print(k,\" : \",A4)\n",
        "        A1 = A2\n",
        "        A2 = A3\n",
        "        A3 = A4\n",
        "    print()"
      ],
      "metadata": {
        "id": "hRwP1-o3mU27",
        "outputId": "c3b48dac-3e8d-420d-9510-272023163189",
        "colab": {
          "base_uri": "https://localhost:8080/"
        }
      },
      "execution_count": 4,
      "outputs": [
        {
          "output_type": "stream",
          "name": "stdout",
          "text": [
            "N =  2\n",
            "1  :  1\n",
            "2  :  2\n",
            "3  :  3\n",
            "\n",
            "N =  12\n",
            "1  :  1\n",
            "2  :  2\n",
            "3  :  3\n",
            "4  :  3\n",
            "5  :  2\n",
            "6  :  -1\n",
            "7  :  -5\n",
            "8  :  -10\n",
            "9  :  -13\n",
            "10  :  -13\n",
            "11  :  -6\n",
            "12  :  7\n",
            "\n",
            "N =  22\n",
            "1  :  1\n",
            "2  :  2\n",
            "3  :  3\n",
            "4  :  3\n",
            "5  :  2\n",
            "6  :  -1\n",
            "7  :  -5\n",
            "8  :  -10\n",
            "9  :  -13\n",
            "10  :  -13\n",
            "11  :  -6\n",
            "12  :  7\n",
            "13  :  27\n",
            "14  :  46\n",
            "15  :  59\n",
            "16  :  51\n",
            "17  :  18\n",
            "18  :  -49\n",
            "19  :  -133\n",
            "20  :  -218\n",
            "21  :  -253\n",
            "22  :  -205\n",
            "\n",
            "N =  32\n",
            "1  :  1\n",
            "2  :  2\n",
            "3  :  3\n",
            "4  :  3\n",
            "5  :  2\n",
            "6  :  -1\n",
            "7  :  -5\n",
            "8  :  -10\n",
            "9  :  -13\n",
            "10  :  -13\n",
            "11  :  -6\n",
            "12  :  7\n",
            "13  :  27\n",
            "14  :  46\n",
            "15  :  59\n",
            "16  :  51\n",
            "17  :  18\n",
            "18  :  -49\n",
            "19  :  -133\n",
            "20  :  -218\n",
            "21  :  -253\n",
            "22  :  -205\n",
            "23  :  -22\n",
            "24  :  279\n",
            "25  :  667\n",
            "26  :  990\n",
            "27  :  1099\n",
            "28  :  755\n",
            "29  :  -126\n",
            "30  :  -1569\n",
            "31  :  -3205\n",
            "32  :  -4522\n",
            "\n",
            "N =  42\n",
            "1  :  1\n",
            "2  :  2\n",
            "3  :  3\n",
            "4  :  3\n",
            "5  :  2\n",
            "6  :  -1\n",
            "7  :  -5\n",
            "8  :  -10\n",
            "9  :  -13\n",
            "10  :  -13\n",
            "11  :  -6\n",
            "12  :  7\n",
            "13  :  27\n",
            "14  :  46\n",
            "15  :  59\n",
            "16  :  51\n",
            "17  :  18\n",
            "18  :  -49\n",
            "19  :  -133\n",
            "20  :  -218\n",
            "21  :  -253\n",
            "22  :  -205\n",
            "23  :  -22\n",
            "24  :  279\n",
            "25  :  667\n",
            "26  :  990\n",
            "27  :  1099\n",
            "28  :  755\n",
            "29  :  -126\n",
            "30  :  -1569\n",
            "31  :  -3205\n",
            "32  :  -4522\n",
            "33  :  -4589\n",
            "34  :  -2701\n",
            "35  :  1754\n",
            "36  :  8231\n",
            "37  :  15387\n",
            "38  :  20110\n",
            "39  :  19035\n",
            "40  :  8371\n",
            "41  :  -12814\n",
            "42  :  -42513\n",
            "\n",
            "N =  52\n",
            "1  :  1\n",
            "2  :  2\n",
            "3  :  3\n",
            "4  :  3\n",
            "5  :  2\n",
            "6  :  -1\n",
            "7  :  -5\n",
            "8  :  -10\n",
            "9  :  -13\n",
            "10  :  -13\n",
            "11  :  -6\n",
            "12  :  7\n",
            "13  :  27\n",
            "14  :  46\n",
            "15  :  59\n",
            "16  :  51\n",
            "17  :  18\n",
            "18  :  -49\n",
            "19  :  -133\n",
            "20  :  -218\n",
            "21  :  -253\n",
            "22  :  -205\n",
            "23  :  -22\n",
            "24  :  279\n",
            "25  :  667\n",
            "26  :  990\n",
            "27  :  1099\n",
            "28  :  755\n",
            "29  :  -126\n",
            "30  :  -1569\n",
            "31  :  -3205\n",
            "32  :  -4522\n",
            "33  :  -4589\n",
            "34  :  -2701\n",
            "35  :  1754\n",
            "36  :  8231\n",
            "37  :  15387\n",
            "38  :  20110\n",
            "39  :  19035\n",
            "40  :  8371\n",
            "41  :  -12814\n",
            "42  :  -42513\n",
            "43  :  -72069\n",
            "44  :  -88954\n",
            "45  :  -75997\n",
            "46  :  -20813\n",
            "47  :  81098\n",
            "48  :  212279\n",
            "49  :  335003\n",
            "50  :  385086\n",
            "51  :  295531\n",
            "52  :  10611\n",
            "\n",
            "N =  62\n",
            "1  :  1\n",
            "2  :  2\n",
            "3  :  3\n",
            "4  :  3\n",
            "5  :  2\n",
            "6  :  -1\n",
            "7  :  -5\n",
            "8  :  -10\n",
            "9  :  -13\n",
            "10  :  -13\n",
            "11  :  -6\n",
            "12  :  7\n",
            "13  :  27\n",
            "14  :  46\n",
            "15  :  59\n",
            "16  :  51\n",
            "17  :  18\n",
            "18  :  -49\n",
            "19  :  -133\n",
            "20  :  -218\n",
            "21  :  -253\n",
            "22  :  -205\n",
            "23  :  -22\n",
            "24  :  279\n",
            "25  :  667\n",
            "26  :  990\n",
            "27  :  1099\n",
            "28  :  755\n",
            "29  :  -126\n",
            "30  :  -1569\n",
            "31  :  -3205\n",
            "32  :  -4522\n",
            "33  :  -4589\n",
            "34  :  -2701\n",
            "35  :  1754\n",
            "36  :  8231\n",
            "37  :  15387\n",
            "38  :  20110\n",
            "39  :  19035\n",
            "40  :  8371\n",
            "41  :  -12814\n",
            "42  :  -42513\n",
            "43  :  -72069\n",
            "44  :  -88954\n",
            "45  :  -75997\n",
            "46  :  -20813\n",
            "47  :  81098\n",
            "48  :  212279\n",
            "49  :  335003\n",
            "50  :  385086\n",
            "51  :  295531\n",
            "52  :  10611\n",
            "53  :  -464030\n",
            "54  :  -1044481\n",
            "55  :  -1529733\n",
            "56  :  -1646154\n",
            "57  :  -1086925\n",
            "58  :  326387\n",
            "59  :  2531770\n",
            "60  :  5032007\n",
            "61  :  6911003\n",
            "62  :  6879470\n",
            "\n"
          ]
        }
      ]
    },
    {
      "cell_type": "markdown",
      "source": [
        "While 5"
      ],
      "metadata": {
        "id": "oRpELvKKmifa"
      }
    },
    {
      "cell_type": "code",
      "source": [
        "import random\n",
        "\n",
        "K = random.randrange(1,30)\n",
        "N = 2 ** K\n",
        "\n",
        "print('K = ', K)\n",
        "print('N = ', N)\n",
        "\n",
        "K_new = 0\n",
        "while N >= 2:\n",
        "    N /= 2\n",
        "    K_new += 1\n",
        "print(\"K = \", K_new)"
      ],
      "metadata": {
        "id": "Jfaj2dJWmteh",
        "outputId": "0c040df8-268a-452c-9eab-964c02ba4c8d",
        "colab": {
          "base_uri": "https://localhost:8080/"
        }
      },
      "execution_count": 5,
      "outputs": [
        {
          "output_type": "stream",
          "name": "stdout",
          "text": [
            "K =  23\n",
            "N =  8388608\n",
            "K =  23\n"
          ]
        }
      ]
    },
    {
      "cell_type": "markdown",
      "source": [
        "While 15"
      ],
      "metadata": {
        "id": "O6nJhFVIm0lZ"
      }
    },
    {
      "cell_type": "code",
      "source": [
        "import random\n",
        "\n",
        "S_start = 1000\n",
        "S_end = 1100\n",
        "\n",
        "P = random.randrange(10,260)/10\n",
        "#P = 7\n",
        "print('P = ', P)\n",
        "coef = 1 + P/100\n",
        "print(\"Initial Amount = {0}, Percent = {1}, Coef = {2}\".format(S_start,P,coef))\n",
        "K = 0\n",
        "S = S_start\n",
        "while S < S_end:\n",
        "    S *= coef\n",
        "    K += 1\n",
        "    print(\"K = {0}, S = {1}\".format(K,S))\n",
        "\n",
        "print()\n",
        "print(\"Months = {0}, Final Amount = {1}\".format(K,S))"
      ],
      "metadata": {
        "id": "cY4-GfwBm2Bh",
        "outputId": "a5cd7fc4-cfcb-4ae0-ecfa-bae754f6ca35",
        "colab": {
          "base_uri": "https://localhost:8080/"
        }
      },
      "execution_count": 6,
      "outputs": [
        {
          "output_type": "stream",
          "name": "stdout",
          "text": [
            "P =  19.7\n",
            "Initial Amount = 1000, Percent = 19.7, Coef = 1.197\n",
            "K = 1, S = 1197.0\n",
            "\n",
            "Months = 1, Final Amount = 1197.0\n"
          ]
        }
      ]
    },
    {
      "cell_type": "markdown",
      "source": [
        "While 25"
      ],
      "metadata": {
        "id": "qQysZPnqm8ag"
      }
    },
    {
      "cell_type": "code",
      "source": [
        "import random\n",
        "\n",
        "N = random.randrange(1,100000)\n",
        "#N = 4181\n",
        "print(\"N = \",N)\n",
        "F1 = F2 = 1\n",
        "print(F1,end=\"; \")\n",
        "print(F2,end=\"; \")\n",
        "\n",
        "while F2 <= N:\n",
        "    F1, F2 = F2, F1+F2\n",
        "    print(F2,end=\"; \")\n",
        "print()\n",
        "print(F2)"
      ],
      "metadata": {
        "id": "w6YvLJzkm_Bg",
        "outputId": "1f62f97b-c1fb-4030-bfe4-c0e6a670680f",
        "colab": {
          "base_uri": "https://localhost:8080/"
        }
      },
      "execution_count": 7,
      "outputs": [
        {
          "output_type": "stream",
          "name": "stdout",
          "text": [
            "N =  70264\n",
            "1; 1; 2; 3; 5; 8; 13; 21; 34; 55; 89; 144; 233; 377; 610; 987; 1597; 2584; 4181; 6765; 10946; 17711; 28657; 46368; 75025; \n",
            "75025\n"
          ]
        }
      ]
    },
    {
      "cell_type": "markdown",
      "source": [],
      "metadata": {
        "id": "bxQWd2K4lQKI"
      }
    }
  ]
}